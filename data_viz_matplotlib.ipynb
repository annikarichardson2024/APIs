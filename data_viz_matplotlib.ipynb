{
  "nbformat": 4,
  "nbformat_minor": 0,
  "metadata": {
    "colab": {
      "private_outputs": true,
      "provenance": [],
      "collapsed_sections": [
        "6Tm3O511a5NH",
        "IETtcFCXzSIX",
        "IqgMK4u7zg2y",
        "wTsaP62ca_9y",
        "6IEfdsc_bqkg",
        "LmC_nmM7b-No"
      ],
      "include_colab_link": true
    },
    "kernelspec": {
      "name": "python3",
      "display_name": "Python 3"
    },
    "language_info": {
      "name": "python"
    }
  },
  "cells": [
    {
      "cell_type": "markdown",
      "metadata": {
        "id": "view-in-github",
        "colab_type": "text"
      },
      "source": [
        "<a href=\"https://colab.research.google.com/github/annikarichardson2024/APIs/blob/main/data_viz_matplotlib.ipynb\" target=\"_parent\"><img src=\"https://colab.research.google.com/assets/colab-badge.svg\" alt=\"Open In Colab\"/></a>"
      ]
    },
    {
      "cell_type": "code",
      "source": [
        "!pip install matplotlib==3.4"
      ],
      "metadata": {
        "id": "J0A34Y9Xo8qr"
      },
      "execution_count": null,
      "outputs": []
    },
    {
      "cell_type": "code",
      "metadata": {
        "id": "vXUEp4BYxNNl"
      },
      "source": [
        "from matplotlib import pyplot as plt\n",
        "plt.style.use('seaborn-whitegrid')\n",
        "import numpy as np"
      ],
      "execution_count": null,
      "outputs": []
    },
    {
      "cell_type": "code",
      "source": [
        "import pandas as pd\n",
        "df = pd.read_csv(\"https://raw.githubusercontent.com/annikarichardson2024/DataVizHW/main/Top_Highest_Openings.csv\", low_memory = False)\n",
        "df = df.loc[1:30,['Release','% of Total','Theaters','Distributor'] ]\n",
        "print(df)"
      ],
      "metadata": {
        "id": "cRaHrf6io-qb"
      },
      "execution_count": null,
      "outputs": []
    },
    {
      "cell_type": "code",
      "source": [
        "var_name = df.loc[1:30,['Release'] ]\n",
        "var_percent = df.loc[1:30,['% of Total'] ]\n",
        "var_theater = df.loc[1:30,['Theaters'] ]\n",
        "var_distibutor = df.loc[1:30,['Distributor'] ]"
      ],
      "metadata": {
        "id": "4ONoY64IprdM"
      },
      "execution_count": null,
      "outputs": []
    },
    {
      "cell_type": "markdown",
      "source": [
        "**Scatter Plot**: showing relation between the % of total gross earnings represented by the opening weekend earnings and the total number of theaters where the movie was screened during its release."
      ],
      "metadata": {
        "id": "vtX6TatSqwXW"
      }
    },
    {
      "cell_type": "code",
      "source": [
        "fig, ax = plt.subplots()\n",
        "ax.scatter(var_percent, var_theater, color='violet');\n",
        "\n",
        "ax.set_title('Relation between gross earnings % and theater screenings');\n",
        "ax.set_xlabel('% of total gross earning happening opening weekend')\n",
        "ax.set_ylabel('total # of theaters screening film')"
      ],
      "metadata": {
        "id": "Ewhi2IzZqdB9"
      },
      "execution_count": null,
      "outputs": []
    },
    {
      "cell_type": "markdown",
      "source": [
        "**Histogram**"
      ],
      "metadata": {
        "id": "K4bri-AOsy8N"
      }
    },
    {
      "cell_type": "code",
      "source": [
        "plt.hist(var_distibutor,\n",
        "         alpha=0.5,\n",
        "         histtype='bar',\n",
        "         color='steelblue',\n",
        "         edgecolor='black');"
      ],
      "metadata": {
        "id": "YV8Xq5TPszPo"
      },
      "execution_count": null,
      "outputs": []
    },
    {
      "cell_type": "markdown",
      "source": [
        "**Line** **Graph**"
      ],
      "metadata": {
        "id": "bbeJ4TF-vrBs"
      }
    },
    {
      "cell_type": "code",
      "source": [],
      "metadata": {
        "id": "PPrgSoLVs3zs"
      },
      "execution_count": null,
      "outputs": []
    },
    {
      "cell_type": "code",
      "metadata": {
        "id": "6QhNvKo8Ln8c"
      },
      "source": [
        "fig = plt.figure()\n",
        "ax = plt.axes()\n",
        "# ax.grid(linestyle = '--')\n",
        "\n",
        "x = np.linspace(0, 10, 1000)\n",
        "ax.plot(x, np.sin(x), label = 'sin', linestyle = 'dashed')\n",
        "ax.plot(x, np.cos(x), label = 'cos', linestyle = 'dotted')\n",
        "ax.set_title('Multiple Lines');\n",
        "ax.set_xlabel('x label')\n",
        "ax.set_ylabel('y label')\n",
        "\n",
        "ax.set_xlim(-5, 15)\n",
        "ax.set_ylim(-3, 3);\n",
        "\n",
        "ax.legend();"
      ],
      "execution_count": null,
      "outputs": []
    },
    {
      "cell_type": "markdown",
      "metadata": {
        "id": "iuZTe9wJ_eQW"
      },
      "source": [
        "###Bar Plots"
      ]
    },
    {
      "cell_type": "markdown",
      "metadata": {
        "id": "cb563KdsUZ04"
      },
      "source": [
        "Simple bar chart"
      ]
    },
    {
      "cell_type": "code",
      "metadata": {
        "id": "Bx1kJdn0TnpW"
      },
      "source": [
        "data = {'Apple': 10, 'Orange': 15, 'Lemon': 5, 'Lime': 20}\n",
        "names = list(data.keys())\n",
        "values = list(data.values())\n",
        "\n",
        "fig = plt.figure()\n",
        "ax = plt.axes()\n",
        "# ax.grid(linestyle='--', color='0.85')  # Color: grayscale between 0 and 1\n",
        "\n",
        "ax.bar(names, values);"
      ],
      "execution_count": null,
      "outputs": []
    },
    {
      "cell_type": "code",
      "metadata": {
        "id": "ZGmdlQk0Vlao"
      },
      "source": [
        "data = {'Apple': 10, 'Orange': 15, 'Lemon': 5, 'Lime': 20}\n",
        "names = list(data.keys())\n",
        "values = list(data.values())\n",
        "\n",
        "fig = plt.figure(figsize=(4,3))\n",
        "ax = plt.axes()\n",
        "\n",
        "ax.bar(names, values, color='teal', width = 0.35);\n",
        "ax.set_xlabel('Fruit')\n",
        "ax.set_ylabel('Quantity')\n",
        "ax.set_title('Fruit Quantities');"
      ],
      "execution_count": null,
      "outputs": []
    },
    {
      "cell_type": "markdown",
      "metadata": {
        "id": "njKY0BEdZuDI"
      },
      "source": [
        "Grouped Bar Chart"
      ]
    },
    {
      "cell_type": "code",
      "metadata": {
        "id": "2dRCDzzjakDL"
      },
      "source": [
        "labels = ['G1', 'G2', 'G3', 'G4', 'G5']\n",
        "men_means = [20, 34, 30, 35, 27]\n",
        "women_means = [25, 32, 34, 20, 25]\n",
        "\n",
        "x = np.arange(len(labels))  # the label locations\n",
        "width = 0.25  # the width of the bars\n",
        "\n",
        "fig, ax = plt.subplots()\n",
        "rects1 = ax.bar(x - width/2, men_means, width, label='Men')\n",
        "rects2 = ax.bar(x + width/2, women_means, width, label='Women')\n",
        "\n",
        "# # Add some text for labels, title and custom x-axis tick labels, etc.\n",
        "ax.set_ylabel('Scores')\n",
        "ax.set_title('Scores by group and gender')\n",
        "ax.set_xticks(x)\n",
        "ax.set_xticklabels(labels)\n",
        "ax.legend();\n",
        "\n",
        "# plt.show()"
      ],
      "execution_count": null,
      "outputs": []
    },
    {
      "cell_type": "markdown",
      "metadata": {
        "id": "DgjPN5A7eDWp"
      },
      "source": [
        "Adding Bar Labels"
      ]
    },
    {
      "cell_type": "code",
      "metadata": {
        "id": "11xd6sQgeC34"
      },
      "source": [
        "fig, ax = plt.subplots()\n",
        "\n",
        "ax.grid(linestyle='--', color='0.75', axis = 'y')\n",
        "\n",
        "ax.set_axisbelow(True)    # Grid behind bars\n",
        "\n",
        "rects1 = ax.bar(x - width/2, men_means, width, label='Men')\n",
        "rects2 = ax.bar(x + width/2, women_means, width, label='Women')\n",
        "\n",
        "# # Add some text for labels, title and custom x-axis tick labels, etc.\n",
        "ax.set_ylabel('Scores')\n",
        "ax.set_title('Scores by group and gender')\n",
        "ax.set_xticks(x)\n",
        "ax.set_xticklabels(labels)\n",
        "\n",
        "ax.legend()\n",
        "\n",
        "# Add bar labels\n",
        "ax.bar_label(rects1, padding=3) # bar_label exists in matplotlib versions > 3.4\n",
        "ax.bar_label(rects2, padding=3)\n",
        "\n",
        "ax.set_ylim(0,40);"
      ],
      "execution_count": null,
      "outputs": []
    },
    {
      "cell_type": "markdown",
      "metadata": {
        "id": "kAhZYxxrbptE"
      },
      "source": [
        "Stacked bar chart"
      ]
    },
    {
      "cell_type": "markdown",
      "metadata": {
        "id": "y_azf05zkJb4"
      },
      "source": [
        "###Scatter Plots"
      ]
    },
    {
      "cell_type": "markdown",
      "metadata": {
        "id": "Jn41qi-cJoPH"
      },
      "source": [
        "Markers"
      ]
    },
    {
      "cell_type": "code",
      "metadata": {
        "id": "CpZf0b2NFROZ"
      },
      "source": [
        "\n",
        "\n",
        "fig, axs = plt.subplots(2, 3, sharex=True, sharey=True, figsize=(16,12));\n",
        "\n",
        "# marker symbol\n",
        "axs[0, 0].scatter(x, y, s=80, marker=\">\")\n",
        "axs[0, 0].set_title(\"marker='>'\")\n",
        "# marker from TeX\n",
        "axs[0, 1].scatter(x, y, s=80, marker=r'$\\alpha$')\n",
        "axs[0, 1].set_title(r\"marker=r'\\$\\alpha\\$'\")\n",
        "\n",
        "# marker from path\n",
        "verts = [[-1, -1], [1, -1], [1, 1], [-1, -1]]\n",
        "axs[0, 2].scatter(x, y, s=80, marker=verts)\n",
        "axs[0, 2].set_title(\"marker=verts\")\n",
        "\n",
        "# regular polygon marker\n",
        "axs[1, 0].scatter(x, y, s=80, marker=(5, 0))\n",
        "axs[1, 0].set_title(\"marker=(5, 0)\")\n",
        "\n",
        "# regular star marker\n",
        "axs[1, 1].scatter(x, y, s=80, marker=(5, 1))\n",
        "axs[1, 1].set_title(\"marker=(5, 1)\")\n",
        "\n",
        "# regular asterisk marker\n",
        "axs[1, 2].scatter(x, y, s=80, marker=(5, 2))\n",
        "axs[1, 2].set_title(\"marker=(5, 2)\");"
      ],
      "execution_count": null,
      "outputs": []
    },
    {
      "cell_type": "markdown",
      "metadata": {
        "id": "IqgMK4u7zg2y"
      },
      "source": [
        "###Histograms"
      ]
    },
    {
      "cell_type": "code",
      "metadata": {
        "id": "03Wc0nPGD7-g"
      },
      "source": [
        "data = np.random.randn(1000)\n",
        "plt.hist(data);"
      ],
      "execution_count": null,
      "outputs": []
    },
    {
      "cell_type": "markdown",
      "metadata": {
        "id": "An0gAVRuXkD2"
      },
      "source": [
        "The hist() function has many options to tune both the calculation and the display."
      ]
    },
    {
      "cell_type": "code",
      "metadata": {
        "id": "L3wVdVbIXmxA"
      },
      "source": [
        "plt.hist(data, bins=50,\n",
        "         alpha=0.5,\n",
        "         histtype='bar',\n",
        "         color='steelblue',\n",
        "         edgecolor='black');"
      ],
      "execution_count": null,
      "outputs": []
    },
    {
      "cell_type": "markdown",
      "metadata": {
        "id": "Eugk5tezYQ3y"
      },
      "source": [
        "Comparing histograms of several distributions"
      ]
    },
    {
      "cell_type": "code",
      "metadata": {
        "id": "L9K8JvsiYQLP"
      },
      "source": [
        "x1 = np.random.normal(0, 0.8, 1000)\n",
        "x2 = np.random.normal(-2, 1, 1000)\n",
        "x3 = np.random.normal(3, 2, 1000)"
      ],
      "execution_count": null,
      "outputs": []
    },
    {
      "cell_type": "code",
      "metadata": {
        "id": "ftE7QmSwYqrr"
      },
      "source": [
        "kwargs = dict(histtype='stepfilled',\n",
        "              alpha=0.3,\n",
        "              density=True,\n",
        "              bins=40)\n",
        "\n",
        "plt.hist(x1, **kwargs)\n",
        "plt.hist(x2, **kwargs)\n",
        "plt.hist(x3, **kwargs);"
      ],
      "execution_count": null,
      "outputs": []
    },
    {
      "cell_type": "markdown",
      "metadata": {
        "id": "wTsaP62ca_9y"
      },
      "source": [
        "## Visualizing some datasets with seaborn"
      ]
    },
    {
      "cell_type": "markdown",
      "metadata": {
        "id": "6IEfdsc_bqkg"
      },
      "source": [
        "####Iris dataset"
      ]
    },
    {
      "cell_type": "code",
      "metadata": {
        "id": "49nifogZbHdX"
      },
      "source": [
        "import sklearn\n",
        "import pandas as pd\n",
        "import numpy as np\n",
        "\n",
        "from sklearn import datasets\n",
        "\n",
        "# Load the iris dataset\n",
        "iris = datasets.load_iris()\n",
        "\n",
        "# Load it to a pandas dataframe:\n",
        "iris_df = pd.DataFrame(data= np.c_[iris['data'], iris['target']],\n",
        "                     columns= iris['feature_names'] + ['label'])\n",
        "\n",
        "iris_df['label_names'] = iris_df['label'].apply(lambda x: iris.target_names[int(x)])\n",
        "\n",
        "# Let's have a look at how the data looks like\n",
        "display(iris_df)"
      ],
      "execution_count": null,
      "outputs": []
    },
    {
      "cell_type": "code",
      "metadata": {
        "id": "eASPNiL9bU-r"
      },
      "source": [
        "# Visualize the data using Matplotlib\n",
        "import matplotlib.pyplot as plt\n",
        "\n",
        "colours = ['orange', 'blue', 'green']\n",
        "species = iris.target_names\n",
        "\n",
        "f = plt.figure(figsize=(8,6))\n",
        "\n",
        "for i in range(0, 3):\n",
        "    species_df = iris_df[iris_df['label'] == i]\n",
        "    plt.scatter(\n",
        "        species_df['petal length (cm)'],\n",
        "        species_df['sepal length (cm)'],\n",
        "        color=colours[i],\n",
        "        alpha=0.5,\n",
        "        label=species[i]\n",
        "    )\n",
        "plt.xlabel('petal length (cm)')\n",
        "plt.ylabel('sepal length (cm)')\n",
        "plt.title('Iris dataset: petal length vs sepal length')\n",
        "plt.legend(loc='lower right')\n",
        "plt.show()"
      ],
      "execution_count": null,
      "outputs": []
    },
    {
      "cell_type": "code",
      "metadata": {
        "id": "EnhOPF2Lbkf4"
      },
      "source": [
        "# Visualize the data using Seaborn\n",
        "# Matrix scatter plot.\n",
        "\n",
        "import seaborn as sns\n",
        "\n",
        "sns.set_style(\"darkgrid\")\n",
        "sns.pairplot(iris_df[iris.feature_names + ['label_names']], hue=\"label_names\",height=3);"
      ],
      "execution_count": null,
      "outputs": []
    }
  ]
}