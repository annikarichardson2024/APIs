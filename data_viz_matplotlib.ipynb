{
  "nbformat": 4,
  "nbformat_minor": 0,
  "metadata": {
    "colab": {
      "private_outputs": true,
      "provenance": [],
      "collapsed_sections": [
        "6Tm3O511a5NH",
        "IETtcFCXzSIX",
        "IqgMK4u7zg2y",
        "wTsaP62ca_9y",
        "6IEfdsc_bqkg",
        "LmC_nmM7b-No"
      ],
      "include_colab_link": true
    },
    "kernelspec": {
      "name": "python3",
      "display_name": "Python 3"
    },
    "language_info": {
      "name": "python"
    }
  },
  "cells": [
    {
      "cell_type": "markdown",
      "metadata": {
        "id": "view-in-github",
        "colab_type": "text"
      },
      "source": [
        "<a href=\"https://colab.research.google.com/github/annikarichardson2024/APIs/blob/main/data_viz_matplotlib.ipynb\" target=\"_parent\"><img src=\"https://colab.research.google.com/assets/colab-badge.svg\" alt=\"Open In Colab\"/></a>"
      ]
    },
    {
      "cell_type": "code",
      "source": [
        "!pip install matplotlib==3.4"
      ],
      "metadata": {
        "id": "J0A34Y9Xo8qr"
      },
      "execution_count": null,
      "outputs": []
    },
    {
      "cell_type": "code",
      "metadata": {
        "id": "vXUEp4BYxNNl"
      },
      "source": [
        "from matplotlib import pyplot as plt\n",
        "plt.style.use('seaborn-whitegrid')\n",
        "import numpy as np"
      ],
      "execution_count": null,
      "outputs": []
    },
    {
      "cell_type": "code",
      "source": [
        "import pandas as pd\n",
        "df = pd.read_csv(\"https://raw.githubusercontent.com/annikarichardson2024/DataVizHW/main/Top_Highest_Openings.csv\", low_memory = False)\n",
        "df = df.loc[1:30,['Release','% of Total','Theaters','Distributor'] ]\n",
        "print(df)"
      ],
      "metadata": {
        "id": "cRaHrf6io-qb"
      },
      "execution_count": null,
      "outputs": []
    },
    {
      "cell_type": "code",
      "source": [
        "var_name = df.loc[1:30,['Release'] ]\n",
        "var_percent = df.loc[1:30,['% of Total'] ]\n",
        "var_theater = df.loc[1:30,['Theaters'] ]\n",
        "var_distibutor = df.loc[1:30,['Distributor'] ]"
      ],
      "metadata": {
        "id": "4ONoY64IprdM"
      },
      "execution_count": null,
      "outputs": []
    },
    {
      "cell_type": "markdown",
      "source": [
        "**Scatter Plot**: showing relation between the % of total gross earnings represented by the opening weekend earnings and the total number of theaters where the movie was screened during its release."
      ],
      "metadata": {
        "id": "vtX6TatSqwXW"
      }
    },
    {
      "cell_type": "code",
      "source": [
        "fig, ax = plt.subplots()\n",
        "ax.scatter(var_percent, var_theater, color='violet');\n",
        "\n",
        "ax.set_title('Relation between gross earnings % and theater screenings');\n",
        "ax.set_xlabel('% of total gross earning happening opening weekend')\n",
        "ax.set_ylabel('total # of theaters screening film')"
      ],
      "metadata": {
        "id": "Ewhi2IzZqdB9"
      },
      "execution_count": null,
      "outputs": []
    },
    {
      "cell_type": "code",
      "metadata": {
        "id": "6QhNvKo8Ln8c"
      },
      "source": [
        "fig = plt.figure()\n",
        "ax = plt.axes()\n",
        "# ax.grid(linestyle = '--')\n",
        "\n",
        "x = np.linspace(0, 10, 1000)\n",
        "ax.plot(x, np.sin(x), label = 'sin', linestyle = 'dashed')\n",
        "ax.plot(x, np.cos(x), label = 'cos', linestyle = 'dotted')\n",
        "ax.plot(x, np.sin(x+1), label = 'cos', linestyle = 'dashdot')\n",
        "ax.set_title('Multiple Lines');\n",
        "ax.set_xlabel('x label')\n",
        "ax.set_ylabel('y label')\n",
        "\n",
        "ax.set_xlim(-5, 15)\n",
        "ax.set_ylim(-3, 3);\n",
        "\n",
        "ax.legend();"
      ],
      "execution_count": null,
      "outputs": []
    },
    {
      "cell_type": "markdown",
      "metadata": {
        "id": "iuZTe9wJ_eQW"
      },
      "source": [
        "###Bar Plots"
      ]
    },
    {
      "cell_type": "markdown",
      "metadata": {
        "id": "cb563KdsUZ04"
      },
      "source": [
        "Simple bar chart"
      ]
    },
    {
      "cell_type": "code",
      "metadata": {
        "id": "Bx1kJdn0TnpW"
      },
      "source": [
        "data = {'Apple': 10, 'Orange': 15, 'Lemon': 5, 'Lime': 20}\n",
        "names = list(data.keys())\n",
        "values = list(data.values())\n",
        "\n",
        "fig = plt.figure()\n",
        "ax = plt.axes()\n",
        "# ax.grid(linestyle='--', color='0.85')  # Color: grayscale between 0 and 1\n",
        "\n",
        "ax.bar(names, values);"
      ],
      "execution_count": null,
      "outputs": []
    },
    {
      "cell_type": "code",
      "metadata": {
        "id": "ZGmdlQk0Vlao"
      },
      "source": [
        "data = {'Apple': 10, 'Orange': 15, 'Lemon': 5, 'Lime': 20}\n",
        "names = list(data.keys())\n",
        "values = list(data.values())\n",
        "\n",
        "fig = plt.figure(figsize=(4,3))\n",
        "ax = plt.axes()\n",
        "\n",
        "ax.bar(names, values, color='teal', width = 0.35);\n",
        "ax.set_xlabel('Fruit')\n",
        "ax.set_ylabel('Quantity')\n",
        "ax.set_title('Fruit Quantities');"
      ],
      "execution_count": null,
      "outputs": []
    },
    {
      "cell_type": "markdown",
      "metadata": {
        "id": "iME4d9PwYvdG"
      },
      "source": [
        "Horizontal Bar Chart"
      ]
    },
    {
      "cell_type": "code",
      "metadata": {
        "id": "sHM9ZE8TWnjA"
      },
      "source": [
        "data = {'Apple': 10,\n",
        "        'Orange': 15,\n",
        "        'Banana': 13,\n",
        "        'Pear': 9,\n",
        "        'Pomegrante': 11,\n",
        "        'Lemon': 5,\n",
        "        'Lime': 20}\n",
        "names = list(data.keys())\n",
        "values = list(data.values())\n",
        "\n",
        "ax = plt.axes()\n",
        "\n",
        "ax.barh(names, values)            # Horizontal bar-chart\n",
        "ax.set_xlabel('Quantity')\n",
        "ax.set_ylabel('Fruit')\n",
        "ax.set_title('Fruit Quantities');"
      ],
      "execution_count": null,
      "outputs": []
    },
    {
      "cell_type": "markdown",
      "metadata": {
        "id": "njKY0BEdZuDI"
      },
      "source": [
        "Grouped Bar Chart"
      ]
    },
    {
      "cell_type": "code",
      "metadata": {
        "id": "2dRCDzzjakDL"
      },
      "source": [
        "labels = ['G1', 'G2', 'G3', 'G4', 'G5']\n",
        "men_means = [20, 34, 30, 35, 27]\n",
        "women_means = [25, 32, 34, 20, 25]\n",
        "\n",
        "x = np.arange(len(labels))  # the label locations\n",
        "width = 0.25  # the width of the bars\n",
        "\n",
        "fig, ax = plt.subplots()\n",
        "rects1 = ax.bar(x - width/2, men_means, width, label='Men')\n",
        "rects2 = ax.bar(x + width/2, women_means, width, label='Women')\n",
        "\n",
        "# # Add some text for labels, title and custom x-axis tick labels, etc.\n",
        "ax.set_ylabel('Scores')\n",
        "ax.set_title('Scores by group and gender')\n",
        "ax.set_xticks(x)\n",
        "ax.set_xticklabels(labels)\n",
        "ax.legend();\n",
        "\n",
        "# plt.show()"
      ],
      "execution_count": null,
      "outputs": []
    },
    {
      "cell_type": "markdown",
      "metadata": {
        "id": "DgjPN5A7eDWp"
      },
      "source": [
        "Adding Bar Labels"
      ]
    },
    {
      "cell_type": "code",
      "metadata": {
        "id": "11xd6sQgeC34"
      },
      "source": [
        "fig, ax = plt.subplots()\n",
        "\n",
        "ax.grid(linestyle='--', color='0.75', axis = 'y')\n",
        "\n",
        "ax.set_axisbelow(True)    # Grid behind bars\n",
        "\n",
        "rects1 = ax.bar(x - width/2, men_means, width, label='Men')\n",
        "rects2 = ax.bar(x + width/2, women_means, width, label='Women')\n",
        "\n",
        "# # Add some text for labels, title and custom x-axis tick labels, etc.\n",
        "ax.set_ylabel('Scores')\n",
        "ax.set_title('Scores by group and gender')\n",
        "ax.set_xticks(x)\n",
        "ax.set_xticklabels(labels)\n",
        "\n",
        "ax.legend()\n",
        "\n",
        "# Add bar labels\n",
        "ax.bar_label(rects1, padding=3) # bar_label exists in matplotlib versions > 3.4\n",
        "ax.bar_label(rects2, padding=3)\n",
        "\n",
        "ax.set_ylim(0,40);"
      ],
      "execution_count": null,
      "outputs": []
    },
    {
      "cell_type": "markdown",
      "metadata": {
        "id": "kAhZYxxrbptE"
      },
      "source": [
        "Stacked bar chart"
      ]
    },
    {
      "cell_type": "code",
      "metadata": {
        "id": "p8S_04sebotM"
      },
      "source": [
        "fig, ax = plt.subplots()\n",
        "ax.grid(linestyle='--', color='0.75', axis = 'y');\n",
        "\n",
        "ax.set_axisbelow(True)    # Grid behind bars\n",
        "\n",
        "p1 = ax.bar(labels, men_means, width, label='Men')\n",
        "p2 = ax.bar(labels, women_means, width, bottom=men_means,\n",
        "       label='Women')\n",
        "\n",
        "ax.set_ylabel('Scores')\n",
        "ax.set_title('Scores by group and gender')\n",
        "ax.legend()\n",
        "\n",
        "# Label with label_type 'center' instead of the default 'edge'\n",
        "ax.bar_label(p1, label_type='center')\n",
        "ax.bar_label(p2, label_type='center')\n",
        "ax.bar_label(p2)\n",
        "ax.set_ylim(0,70);"
      ],
      "execution_count": null,
      "outputs": []
    },
    {
      "cell_type": "markdown",
      "metadata": {
        "id": "y_azf05zkJb4"
      },
      "source": [
        "###Scatter Plots"
      ]
    },
    {
      "cell_type": "markdown",
      "metadata": {
        "id": "Jn41qi-cJoPH"
      },
      "source": [
        "Markers"
      ]
    },
    {
      "cell_type": "code",
      "metadata": {
        "id": "CpZf0b2NFROZ"
      },
      "source": [
        "\n",
        "\n",
        "fig, axs = plt.subplots(2, 3, sharex=True, sharey=True, figsize=(16,12));\n",
        "\n",
        "# marker symbol\n",
        "axs[0, 0].scatter(x, y, s=80, marker=\">\")\n",
        "axs[0, 0].set_title(\"marker='>'\")\n",
        "# marker from TeX\n",
        "axs[0, 1].scatter(x, y, s=80, marker=r'$\\alpha$')\n",
        "axs[0, 1].set_title(r\"marker=r'\\$\\alpha\\$'\")\n",
        "\n",
        "# marker from path\n",
        "verts = [[-1, -1], [1, -1], [1, 1], [-1, -1]]\n",
        "axs[0, 2].scatter(x, y, s=80, marker=verts)\n",
        "axs[0, 2].set_title(\"marker=verts\")\n",
        "\n",
        "# regular polygon marker\n",
        "axs[1, 0].scatter(x, y, s=80, marker=(5, 0))\n",
        "axs[1, 0].set_title(\"marker=(5, 0)\")\n",
        "\n",
        "# regular star marker\n",
        "axs[1, 1].scatter(x, y, s=80, marker=(5, 1))\n",
        "axs[1, 1].set_title(\"marker=(5, 1)\")\n",
        "\n",
        "# regular asterisk marker\n",
        "axs[1, 2].scatter(x, y, s=80, marker=(5, 2))\n",
        "axs[1, 2].set_title(\"marker=(5, 2)\");"
      ],
      "execution_count": null,
      "outputs": []
    },
    {
      "cell_type": "markdown",
      "metadata": {
        "id": "75TQ_5aSFRiS"
      },
      "source": [
        "https://matplotlib.org/stable/api/markers_api.html#module-matplotlib.markers"
      ]
    },
    {
      "cell_type": "markdown",
      "metadata": {
        "id": "IETtcFCXzSIX"
      },
      "source": [
        "###Box Plots"
      ]
    },
    {
      "cell_type": "markdown",
      "metadata": {
        "id": "4-ovEARDRkFz"
      },
      "source": [
        "A box plot displays a summary of a set of data containing the minimum, first quartile, median, third quartile, and maximum. In a box plot, we draw a box from the **first quartile** to the **third quartile**. A vertical line goes through the box at the **median**. The whiskers go from each quartile to the **minimum** or **maximum**."
      ]
    },
    {
      "cell_type": "markdown",
      "metadata": {
        "id": "9Mu5lD3jT_Da"
      },
      "source": [
        "![image.png](data:image/png;base64,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)"
      ]
    },
    {
      "cell_type": "code",
      "metadata": {
        "id": "nWjCzKEoRznr"
      },
      "source": [
        "# Create some data\n",
        "\n",
        "spread = np.random.rand(50) * 100\n",
        "center = np.ones(25) * 50\n",
        "flier_high = np.random.rand(10) * 100 + 100\n",
        "flier_low = np.random.rand(10) * -100\n",
        "data = np.concatenate((spread, center, flier_high, flier_low))\n"
      ],
      "execution_count": null,
      "outputs": []
    },
    {
      "cell_type": "code",
      "metadata": {
        "id": "BdAzyl1LSRXG"
      },
      "source": [
        "# Basic boxplot\n",
        "\n",
        "fig, ax = plt.subplots()\n",
        "ax.boxplot(data)\n",
        "ax.set_title('Basic Box Plot');"
      ],
      "execution_count": null,
      "outputs": []
    },
    {
      "cell_type": "code",
      "metadata": {
        "id": "aeo9kyqSzUXI"
      },
      "source": [
        "# Notched boxplot\n",
        "\n",
        "fig, ax = plt.subplots()\n",
        "ax.boxplot(data, 1)\n",
        "ax.set_title('Notched Box Plot');"
      ],
      "execution_count": null,
      "outputs": []
    },
    {
      "cell_type": "code",
      "metadata": {
        "id": "5FUfvW1ETMhc"
      },
      "source": [
        "# Notched boxplot without outliers\n",
        "\n",
        "fig, ax = plt.subplots()\n",
        "ax.boxplot(data, 1, '')\n",
        "ax.set_title('Notched Box Plot without Outliers');"
      ],
      "execution_count": null,
      "outputs": []
    },
    {
      "cell_type": "code",
      "metadata": {
        "id": "1xKoY0_yUOmq"
      },
      "source": [
        "# Notched boxplot without outliers\n",
        "\n",
        "fig, ax = plt.subplots()\n",
        "ax.boxplot(data, 0, 'gD')\n",
        "ax.set_title('Boxplot with different symbol for outliers');"
      ],
      "execution_count": null,
      "outputs": []
    },
    {
      "cell_type": "code",
      "metadata": {
        "id": "C9BLfT54Umey"
      },
      "source": [
        "# Horizontal box plot\n",
        "fig, ax = plt.subplots()\n",
        "ax.boxplot(data, 0, 'rs', 0)\n",
        "ax.set_title('Horizontal box plot')"
      ],
      "execution_count": null,
      "outputs": []
    },
    {
      "cell_type": "code",
      "metadata": {
        "id": "V8Tm0BolUvYj"
      },
      "source": [
        "collectn_1 = np.random.normal(100, 10, 200)\n",
        "collectn_2 = np.random.normal(80, 30, 200)\n",
        "collectn_3 = np.random.normal(90, 20, 200)\n",
        "collectn_4 = np.random.normal(70, 25, 200)\n",
        "\n",
        "## combine these different collections into a list\n",
        "data_to_plot = [collectn_1, collectn_2, collectn_3, collectn_4]\n"
      ],
      "execution_count": null,
      "outputs": []
    },
    {
      "cell_type": "code",
      "metadata": {
        "id": "5E0QKaMkVFK3"
      },
      "source": [
        "fig, ax = plt.subplots()\n",
        "ax.boxplot(data_to_plot);"
      ],
      "execution_count": null,
      "outputs": []
    },
    {
      "cell_type": "markdown",
      "metadata": {
        "id": "Ndpe2Ne8VqMH"
      },
      "source": [
        "\n",
        "Violin plots are similar to box plots, except that they also show the probability density of the data at different values. These plots include a marker for the median of the data and a box indicating the interquartile range, as in the standard box plots. Overlaid on this box plot is a kernel density estimation. Like box plots, violin plots are used to represent comparison of a variable distribution (or sample distribution) across different \"categories\"."
      ]
    },
    {
      "cell_type": "code",
      "metadata": {
        "id": "gFbC55rTVXlR"
      },
      "source": [
        "fig, ax = plt.subplots()\n",
        "bp = ax.violinplot(data_to_plot, showmedians=True);"
      ],
      "execution_count": null,
      "outputs": []
    },
    {
      "cell_type": "markdown",
      "metadata": {
        "id": "IqgMK4u7zg2y"
      },
      "source": [
        "###Histograms"
      ]
    },
    {
      "cell_type": "code",
      "metadata": {
        "id": "03Wc0nPGD7-g"
      },
      "source": [
        "data = np.random.randn(1000)\n",
        "plt.hist(data);"
      ],
      "execution_count": null,
      "outputs": []
    },
    {
      "cell_type": "markdown",
      "metadata": {
        "id": "An0gAVRuXkD2"
      },
      "source": [
        "The hist() function has many options to tune both the calculation and the display."
      ]
    },
    {
      "cell_type": "code",
      "metadata": {
        "id": "L3wVdVbIXmxA"
      },
      "source": [
        "plt.hist(data, bins=50,\n",
        "         alpha=0.5,\n",
        "         histtype='bar',\n",
        "         color='steelblue',\n",
        "         edgecolor='black');"
      ],
      "execution_count": null,
      "outputs": []
    },
    {
      "cell_type": "markdown",
      "metadata": {
        "id": "Eugk5tezYQ3y"
      },
      "source": [
        "Comparing histograms of several distributions"
      ]
    },
    {
      "cell_type": "code",
      "metadata": {
        "id": "L9K8JvsiYQLP"
      },
      "source": [
        "x1 = np.random.normal(0, 0.8, 1000)\n",
        "x2 = np.random.normal(-2, 1, 1000)\n",
        "x3 = np.random.normal(3, 2, 1000)"
      ],
      "execution_count": null,
      "outputs": []
    },
    {
      "cell_type": "code",
      "metadata": {
        "id": "ftE7QmSwYqrr"
      },
      "source": [
        "kwargs = dict(histtype='stepfilled',\n",
        "              alpha=0.3,\n",
        "              density=True,\n",
        "              bins=40)\n",
        "\n",
        "plt.hist(x1, **kwargs)\n",
        "plt.hist(x2, **kwargs)\n",
        "plt.hist(x3, **kwargs);"
      ],
      "execution_count": null,
      "outputs": []
    },
    {
      "cell_type": "markdown",
      "metadata": {
        "id": "wTsaP62ca_9y"
      },
      "source": [
        "## Visualizing some datasets with seaborn"
      ]
    },
    {
      "cell_type": "markdown",
      "metadata": {
        "id": "6IEfdsc_bqkg"
      },
      "source": [
        "####Iris dataset"
      ]
    },
    {
      "cell_type": "code",
      "metadata": {
        "id": "49nifogZbHdX"
      },
      "source": [
        "import sklearn\n",
        "import pandas as pd\n",
        "import numpy as np\n",
        "\n",
        "from sklearn import datasets\n",
        "\n",
        "# Load the iris dataset\n",
        "iris = datasets.load_iris()\n",
        "\n",
        "# Load it to a pandas dataframe:\n",
        "iris_df = pd.DataFrame(data= np.c_[iris['data'], iris['target']],\n",
        "                     columns= iris['feature_names'] + ['label'])\n",
        "\n",
        "iris_df['label_names'] = iris_df['label'].apply(lambda x: iris.target_names[int(x)])\n",
        "\n",
        "# Let's have a look at how the data looks like\n",
        "display(iris_df)"
      ],
      "execution_count": null,
      "outputs": []
    },
    {
      "cell_type": "code",
      "metadata": {
        "id": "eASPNiL9bU-r"
      },
      "source": [
        "# Visualize the data using Matplotlib\n",
        "import matplotlib.pyplot as plt\n",
        "\n",
        "colours = ['orange', 'blue', 'green']\n",
        "species = iris.target_names\n",
        "\n",
        "f = plt.figure(figsize=(8,6))\n",
        "\n",
        "for i in range(0, 3):\n",
        "    species_df = iris_df[iris_df['label'] == i]\n",
        "    plt.scatter(\n",
        "        species_df['petal length (cm)'],\n",
        "        species_df['sepal length (cm)'],\n",
        "        color=colours[i],\n",
        "        alpha=0.5,\n",
        "        label=species[i]\n",
        "    )\n",
        "plt.xlabel('petal length (cm)')\n",
        "plt.ylabel('sepal length (cm)')\n",
        "plt.title('Iris dataset: petal length vs sepal length')\n",
        "plt.legend(loc='lower right')\n",
        "plt.show()"
      ],
      "execution_count": null,
      "outputs": []
    },
    {
      "cell_type": "code",
      "metadata": {
        "id": "EnhOPF2Lbkf4"
      },
      "source": [
        "# Visualize the data using Seaborn\n",
        "# Matrix scatter plot.\n",
        "\n",
        "import seaborn as sns\n",
        "\n",
        "sns.set_style(\"darkgrid\")\n",
        "sns.pairplot(iris_df[iris.feature_names + ['label_names']], hue=\"label_names\",height=3);"
      ],
      "execution_count": null,
      "outputs": []
    }
  ]
}