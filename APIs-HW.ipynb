{
  "nbformat": 4,
  "nbformat_minor": 0,
  "metadata": {
    "colab": {
      "provenance": [],
      "authorship_tag": "ABX9TyPPrGdjB9dDaXwRzBVzEnBA",
      "include_colab_link": true
    },
    "kernelspec": {
      "name": "python3",
      "display_name": "Python 3"
    },
    "language_info": {
      "name": "python"
    }
  },
  "cells": [
    {
      "cell_type": "markdown",
      "metadata": {
        "id": "view-in-github",
        "colab_type": "text"
      },
      "source": [
        "<a href=\"https://colab.research.google.com/github/annikarichardson2024/APIs/blob/main/APIs-HW.ipynb\" target=\"_parent\"><img src=\"https://colab.research.google.com/assets/colab-badge.svg\" alt=\"Open In Colab\"/></a>"
      ]
    },
    {
      "cell_type": "code",
      "execution_count": 5,
      "metadata": {
        "id": "6bNwI4YSpEIJ"
      },
      "outputs": [],
      "source": [
        "import os\n",
        "import json\n",
        "import pprint\n",
        "import requests\n",
        "import requests.exceptions\n",
        "import pandas as pd"
      ]
    },
    {
      "cell_type": "code",
      "source": [
        "country_url = \"http://universities.hipolabs.com/search?name=middle\"\n",
        "response_type = ['json', 'dataframe']"
      ],
      "metadata": {
        "id": "5QHxFRPuwlfR"
      },
      "execution_count": 17,
      "outputs": []
    },
    {
      "cell_type": "code",
      "source": [
        "#to retrieve a response for the country name\n",
        "\n",
        "def get_api_response(name):\n",
        "    country_url = \"https://restcountries.com/v3.1/name/{name}\"\n",
        "    response = requests.get(country_url)\n",
        "    answer_json = response.json()\n",
        "    return answer_json\n",
        "\n",
        "# to handle sending errors\n",
        "def retrieve():\n",
        "    country_name = input(\"Enter the name of a country: \")\n",
        "    name = get_api_response(country_name)\n",
        "\n",
        "\n",
        "    try:\n",
        "        response = requests.get(country_url)\n",
        "        response.raise_for_status()\n",
        "\n",
        "    except requests.exceptions.HTTPError as errh:\n",
        "        return \"An Http Error occurred: \" + repr(errh)\n",
        "    except requests.exceptions.ConnectionError as errc:\n",
        "        return \"An Error Connecting to the API occurred: \" + repr(errc)\n",
        "    except requests.exceptions.Timeout as errt:\n",
        "        return \"A Timeout Error occurred: \" + repr(errt)\n",
        "    except requests.exceptions.RequestException as err:\n",
        "        return \"An Unknown Error occurred: \" + repr(err)\n",
        "\n",
        "    if response_type == 'json':\n",
        "        result = json.dumps(response.json(), sort_keys=True, indent=4)\n",
        "    elif response_type == 'dataframe':\n",
        "        result = pd.json_normalize(response.json())\n",
        "    else:\n",
        "        result = \"An unhandled error has occurred!\"\n",
        "\n",
        "    return result\n",
        "\n",
        "# to print name and capital\n",
        "def retrieve2():\n",
        "    country_name = input(\"Enter the name of a country: \")\n",
        "    name = get_api_response(country_name)\n",
        "\n",
        "    if 'country' in name:\n",
        "      print({name} + {['capitalInfo']})\n",
        "    else:\n",
        "      print(\"invalid\")"
      ],
      "metadata": {
        "id": "PFrKScLvxxyE"
      },
      "execution_count": 20,
      "outputs": []
    },
    {
      "cell_type": "code",
      "source": [
        "response_type = ['json', 'dataframe']\n",
        "json_string = get_api_response(country_url)\n",
        "print(json_string)"
      ],
      "metadata": {
        "colab": {
          "base_uri": "https://localhost:8080/"
        },
        "id": "0lj29WGgNigQ",
        "outputId": "86a0b79b-100c-424f-9551-de30640faa84"
      },
      "execution_count": 21,
      "outputs": [
        {
          "output_type": "stream",
          "name": "stdout",
          "text": [
            "{'status': 404, 'message': 'Not Found'}\n"
          ]
        }
      ]
    }
  ]
}