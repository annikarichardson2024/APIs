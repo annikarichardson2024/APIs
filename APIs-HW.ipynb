{
  "nbformat": 4,
  "nbformat_minor": 0,
  "metadata": {
    "colab": {
      "provenance": [],
      "authorship_tag": "ABX9TyN7lyZYOEDcZdFbztipRx02",
      "include_colab_link": true
    },
    "kernelspec": {
      "name": "python3",
      "display_name": "Python 3"
    },
    "language_info": {
      "name": "python"
    }
  },
  "cells": [
    {
      "cell_type": "markdown",
      "metadata": {
        "id": "view-in-github",
        "colab_type": "text"
      },
      "source": [
        "<a href=\"https://colab.research.google.com/github/annikarichardson2024/APIs/blob/main/APIs-HW.ipynb\" target=\"_parent\"><img src=\"https://colab.research.google.com/assets/colab-badge.svg\" alt=\"Open In Colab\"/></a>"
      ]
    },
    {
      "cell_type": "code",
      "execution_count": 2,
      "metadata": {
        "id": "6bNwI4YSpEIJ"
      },
      "outputs": [],
      "source": [
        "import os\n",
        "import json\n",
        "import pprint\n",
        "import requests\n",
        "import requests.exceptions\n",
        "import pandas as pd"
      ]
    },
    {
      "cell_type": "code",
      "source": [
        "country_url = \"https://restcountries.com/v3.1/name/{name}\""
      ],
      "metadata": {
        "id": "5QHxFRPuwlfR"
      },
      "execution_count": 3,
      "outputs": []
    },
    {
      "cell_type": "code",
      "source": [
        "#to retrieve a response for the country name\n",
        "def get_api_response(country_name):\n",
        "    country_url = \"https://restcountries.com/v3.1/name/{name}\"\n",
        "    response = requests.get(country_url)\n",
        "    return response\n",
        "\n",
        "# to handle sending errors\n",
        "def retrieve():\n",
        "    country_name = input(\"Enter the name of a country: \")\n",
        "    name = get_api_response(country_name)\n",
        "\n",
        "\n",
        "    try:\n",
        "        response = requests.get(country_url)\n",
        "        response.raise_for_status()\n",
        "\n",
        "    except requests.exceptions.HTTPError as errh:\n",
        "        return \"An Http Error occurred: \" + repr(errh)\n",
        "    except requests.exceptions.ConnectionError as errc:\n",
        "        return \"An Error Connecting to the API occurred: \" + repr(errc)\n",
        "    except requests.exceptions.Timeout as errt:\n",
        "        return \"A Timeout Error occurred: \" + repr(errt)\n",
        "    except requests.exceptions.RequestException as err:\n",
        "        return \"An Unknown Error occurred: \" + repr(err)\n",
        "\n",
        "    if response_type == 'json':\n",
        "        result = json.dumps(response.json(), sort_keys=True, indent=4)\n",
        "    elif response_type == 'dataframe':\n",
        "        result = pd.json_normalize(response.json())\n",
        "    else:\n",
        "        result = \"An unhandled error has occurred!\"\n",
        "\n",
        "    return result\n",
        "\n",
        "# to print name and capital\n",
        "def retrieve2():\n",
        "    country_name = input(\"Enter the name of a country: \")\n",
        "    name = get_api_response(country_name)\n",
        "\n",
        "    if 'country' in name:\n",
        "      print({name} + {['capitalInfo']})\n",
        "    else:\n",
        "      print(\"invalid\")"
      ],
      "metadata": {
        "id": "PFrKScLvxxyE"
      },
      "execution_count": 4,
      "outputs": []
    },
    {
      "cell_type": "code",
      "source": [
        "response_type = ['json', 'dataframe']\n",
        "json_string = get_api_response(country_url)\n",
        "print(json_string)"
      ],
      "metadata": {
        "colab": {
          "base_uri": "https://localhost:8080/"
        },
        "id": "0lj29WGgNigQ",
        "outputId": "e320f222-e3b0-4e56-fa35-f15efbc683d2"
      },
      "execution_count": 5,
      "outputs": [
        {
          "output_type": "stream",
          "name": "stdout",
          "text": [
            "<Response [404]>\n"
          ]
        }
      ]
    },
    {
      "cell_type": "code",
      "source": [
        "# Im honestly just unsure of how to proceed from here. I used the lecture information as well\n",
        "# as APIs script from github in addition to the quick start guide but was just not able\n",
        "# to figure out how to further implement this in a way that would display the results\n",
        "# and write it out to a JSON file that can be appended. But above is all of my efforts\n",
        "# to try to implement what I could understand from the lesson"
      ],
      "metadata": {
        "id": "4fX-eLUmROKm"
      },
      "execution_count": null,
      "outputs": []
    }
  ]
}